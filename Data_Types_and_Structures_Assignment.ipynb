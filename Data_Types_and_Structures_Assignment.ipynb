{
  "nbformat": 4,
  "nbformat_minor": 0,
  "metadata": {
    "colab": {
      "provenance": []
    },
    "kernelspec": {
      "name": "python3",
      "display_name": "Python 3"
    },
    "language_info": {
      "name": "python"
    }
  },
  "cells": [
    {
      "cell_type": "markdown",
      "source": [
        "# Data Types and Structures Assignment"
      ],
      "metadata": {
        "id": "d-TXaQpqjjKG"
      }
    },
    {
      "cell_type": "markdown",
      "source": [
        "1. What are data structures, and why are they important?\n",
        "\n",
        "Data structures are organized ways of storing and managing data so that it can be used efficiently. They are important because they determine how easily data can be accessed, modified, and stored. Efficient data structures make programs faster and more optimized, while poor choices can lead to slow performance.\n",
        "\n",
        "2. Explain the difference between mutable and immutable data types with examples.\n",
        "\n",
        "Mutable data types can be changed after they are created, while immutable data types cannot. For example, lists are mutable because you can add, remove, or change elements in them. Strings and tuples are immutable because once they are created, their contents cannot be modified.\n",
        "\n",
        "3. What are the main differences between lists and tuples in Python?\n",
        "\n",
        "Lists are mutable, meaning their elements can be changed, added, or removed. Tuples are immutable, which means once created, their elements cannot be changed. Lists are generally slower than tuples but more flexible, while tuples are faster and often used when data should not change.\n",
        "\n",
        "4. Describe how dictionaries store data.\n",
        "\n",
        "Dictionaries store data in key-value pairs. Each key is unique and maps to a value. Internally, Python uses a hash table to store dictionary data, which allows fast access, insertion, and deletion using keys.\n",
        "\n",
        "5. Why might you use a set instead of a list in Python?\n",
        "\n",
        "Sets are used instead of lists when you want to store unique items without duplicates. They are also faster for checking whether an element exists in the collection compared to lists.\n",
        "\n",
        "6. What is a string in Python, and how is it different from a list?\n",
        "\n",
        "A string in Python is a sequence of characters enclosed in quotes. It is immutable, meaning it cannot be modified after creation. A list, on the other hand, is mutable and can contain different data types, including numbers, strings, and other lists.\n",
        "\n",
        "7. How do tuples ensure data integrity in Python?\n",
        "\n",
        "Tuples ensure data integrity because they are immutable. Once a tuple is created, its contents cannot be changed, which prevents accidental modification of critical data.\n",
        "\n",
        "8. What is a hash table, and how does it relate to dictionaries in Python?\n",
        "\n",
        "A hash table is a data structure that stores data using a system of hash values for quick access. In Python, dictionaries are implemented using hash tables, which allows them to provide fast lookups, insertions, and deletions.\n",
        "\n",
        "9. Can lists contain different data types in Python?\n",
        "\n",
        "Yes, lists in Python can contain different data types. For example, a list can have integers, strings, floats, and even other lists together.\n",
        "\n",
        "10. Explain why strings are immutable in Python.\n",
        "\n",
        "Strings are immutable because once they are created, their characters cannot be changed. This design makes them more memory-efficient and safe to use in programs, especially when used as keys in dictionaries.\n",
        "\n",
        "11. What advantages do dictionaries offer over lists for certain tasks?\n",
        "\n",
        "Dictionaries allow fast lookups using keys, while lists require searching through each element to find a match. This makes dictionaries more efficient when you need to associate values with unique identifiers.\n",
        "\n",
        "12. Describe a scenario where using a tuple would be preferable over a list.\n",
        "\n",
        "A tuple is preferable when you want to store fixed data that should not change. For example, storing coordinates (x, y) or days of the week is better with a tuple because these values are constant.\n",
        "\n",
        "13. How do sets handle duplicate values in Python?\n",
        "\n",
        "Sets automatically remove duplicate values. If you try to add a duplicate item to a set, it will be ignored, ensuring that all elements in the set are unique.\n",
        "\n",
        "14. How does the “in” keyword work differently for lists and dictionaries?\n",
        "\n",
        "For lists, the in keyword checks whether an element exists in the list. For dictionaries, in checks only for keys, not values. To check values, you must use .values().\n",
        "\n",
        "15. Can you modify the elements of a tuple? Explain why or why not.\n",
        "\n",
        "No, you cannot modify the elements of a tuple because tuples are immutable. Once created, their contents cannot be changed, added, or removed.\n",
        "\n",
        "16. What is a nested dictionary, and give an example of its use case.\n",
        "\n",
        "A nested dictionary is a dictionary that contains another dictionary as a value. It is useful for representing structured data, such as student records where each student has details like name, age, and marks stored inside their own dictionary.\n",
        "\n",
        "17. Describe the time complexity of accessing elements in a dictionary.\n",
        "\n",
        "Accessing elements in a dictionary is on average O(1), meaning it takes constant time regardless of the dictionary’s size. This efficiency comes from the hash table implementation.\n",
        "\n",
        "18. In what situations are lists preferred over dictionaries?\n",
        "\n",
        "Lists are preferred when the order of elements matters, when duplicate values are allowed, or when you just need a simple collection of items without key-value pairs.\n",
        "\n",
        "19. Why are dictionaries considered unordered, and how does that affect data retrieval?\n",
        "\n",
        "Dictionaries are considered unordered because their elements are stored based on hash values, not sequence. This means the order of items may not match the order in which they were added (though in Python 3.7+, insertion order is preserved for practical use). Data retrieval, however, is unaffected because keys allow direct access.\n",
        "\n",
        "20. Explain the difference between a list and a dictionary in terms of data retrieval.\n",
        "\n",
        "In a list, data is retrieved using an index number, while in a dictionary, data is retrieved using keys. Lists require searching through indexes if you don’t know the position, while dictionaries provide faster access using key lookups.\n"
      ],
      "metadata": {
        "id": "LIZpFgw80ueF"
      }
    },
    {
      "cell_type": "code",
      "source": [
        "#1.Write a code to Create a string with your name and print it\n",
        "a=\"Arkaprava Roy\"\n",
        "print(a)"
      ],
      "metadata": {
        "colab": {
          "base_uri": "https://localhost:8080/"
        },
        "id": "hddT5PPi6akW",
        "outputId": "9cdd978b-bfc5-41b3-d797-5ecefbae5878"
      },
      "execution_count": null,
      "outputs": [
        {
          "output_type": "stream",
          "name": "stdout",
          "text": [
            "Arkaprava Roy\n"
          ]
        }
      ]
    },
    {
      "cell_type": "code",
      "source": [
        "#2.Write a code to Find the length of the string \"Hello World\"\n",
        "str1= \"Hello World\"\n",
        "print(len(str1))"
      ],
      "metadata": {
        "colab": {
          "base_uri": "https://localhost:8080/"
        },
        "id": "t4VClZcJ6b7M",
        "outputId": "331d7c5f-2359-4a39-a1ab-32e4a08db535"
      },
      "execution_count": null,
      "outputs": [
        {
          "output_type": "stream",
          "name": "stdout",
          "text": [
            "11\n"
          ]
        }
      ]
    },
    {
      "cell_type": "code",
      "source": [
        "#3.Write a code to Slice the first 3 characters from the string \"Python Programming\"\n",
        "str2 = \"Python Programming\"\n",
        "print(str2[0:3])"
      ],
      "metadata": {
        "colab": {
          "base_uri": "https://localhost:8080/"
        },
        "id": "SSH7qOG66b9v",
        "outputId": "1045aa8a-5818-4c40-f462-adb2ead5d81b"
      },
      "execution_count": null,
      "outputs": [
        {
          "output_type": "stream",
          "name": "stdout",
          "text": [
            "Pyt\n"
          ]
        }
      ]
    },
    {
      "cell_type": "code",
      "source": [
        "# 4.Write a code to Convert the string \"hello\" to uppercase\n",
        "str3=\"hello\"\n",
        "print(str3.upper())"
      ],
      "metadata": {
        "colab": {
          "base_uri": "https://localhost:8080/"
        },
        "id": "qgc8EiDt6cAY",
        "outputId": "47cab691-07cf-4f43-a747-d9ff978c75d5"
      },
      "execution_count": null,
      "outputs": [
        {
          "output_type": "stream",
          "name": "stdout",
          "text": [
            "HELLO\n"
          ]
        }
      ]
    },
    {
      "cell_type": "code",
      "source": [
        "#5.Write a code to Replace the word \"apple\" with \"orange\" in the string \"I like apple\"\n",
        "str4= \"I like apple\"\n",
        "str4.replace('apple','orange')"
      ],
      "metadata": {
        "id": "uHKwDB2V6cES",
        "colab": {
          "base_uri": "https://localhost:8080/",
          "height": 35
        },
        "outputId": "47fbc219-9158-4c02-8307-e2e1cd5a59f0"
      },
      "execution_count": null,
      "outputs": [
        {
          "output_type": "execute_result",
          "data": {
            "text/plain": [
              "'I like orange'"
            ],
            "application/vnd.google.colaboratory.intrinsic+json": {
              "type": "string"
            }
          },
          "metadata": {},
          "execution_count": 2
        }
      ]
    },
    {
      "cell_type": "code",
      "source": [
        "#6.Write a code to Create a list with numbers 1 to 5 and print it\n",
        "list1=[1,2,3,4,5]\n",
        "print(list1)"
      ],
      "metadata": {
        "id": "ZGIZpXi66cG5",
        "colab": {
          "base_uri": "https://localhost:8080/"
        },
        "outputId": "76eeaa54-ea5d-4604-dc13-07c5391c3faa"
      },
      "execution_count": null,
      "outputs": [
        {
          "output_type": "stream",
          "name": "stdout",
          "text": [
            "[1, 2, 3, 4, 5]\n"
          ]
        }
      ]
    },
    {
      "cell_type": "code",
      "source": [
        "#7.Write a code to Append the number 10 to the list [1, 2, 3, 4]\n",
        "list2= [1, 2, 3, 4]\n",
        "list2.append(10)\n",
        "print(list2)"
      ],
      "metadata": {
        "id": "yIlRbTPB6cJX",
        "colab": {
          "base_uri": "https://localhost:8080/"
        },
        "outputId": "3f811b66-c848-4f45-eb9d-4ba3c1a2e201"
      },
      "execution_count": null,
      "outputs": [
        {
          "output_type": "stream",
          "name": "stdout",
          "text": [
            "[1, 2, 3, 4, 10]\n"
          ]
        }
      ]
    },
    {
      "cell_type": "code",
      "source": [
        "#8.Write a code to Remove the number 3 from the list [1, 2, 3, 4, 5]\n",
        "list1= [1, 2, 3, 4, 5]\n",
        "list1.remove(3)\n",
        "print(list1)"
      ],
      "metadata": {
        "id": "9R_PCYWr6cL5",
        "colab": {
          "base_uri": "https://localhost:8080/"
        },
        "outputId": "cd4eae77-f053-4026-edf5-02c177dc7271"
      },
      "execution_count": 2,
      "outputs": [
        {
          "output_type": "stream",
          "name": "stdout",
          "text": [
            "[1, 2, 4, 5]\n"
          ]
        }
      ]
    },
    {
      "cell_type": "code",
      "source": [
        "#9.Write a code to Access the second element in the list ['a', 'b', 'c', 'd']\n",
        "list1= ['a', 'b', 'c', 'd']\n",
        "print(list1[1])"
      ],
      "metadata": {
        "id": "Pvy2SAAu6cOd",
        "colab": {
          "base_uri": "https://localhost:8080/"
        },
        "outputId": "7e0ba522-eb96-4ef2-9edf-b31a23f06934"
      },
      "execution_count": 3,
      "outputs": [
        {
          "output_type": "stream",
          "name": "stdout",
          "text": [
            "b\n"
          ]
        }
      ]
    },
    {
      "cell_type": "code",
      "source": [
        "#10. Write a code to reverse the list [10, 20, 30, 40, 50].\n",
        "list1= [10, 20, 30, 40, 50]\n",
        "print(list1[::-1])\n"
      ],
      "metadata": {
        "id": "m5EmqU_k6cQ-",
        "colab": {
          "base_uri": "https://localhost:8080/"
        },
        "outputId": "60d6e7ec-5a71-42f3-baaa-c2a194aa0b83"
      },
      "execution_count": 9,
      "outputs": [
        {
          "output_type": "stream",
          "name": "stdout",
          "text": [
            "[50, 40, 30, 20, 10]\n"
          ]
        }
      ]
    },
    {
      "cell_type": "code",
      "source": [
        "#11. Write a code to create a tuple with the elements 100, 200, 300 and print it\n",
        "tup=(100,200,300)\n",
        "print(tup)"
      ],
      "metadata": {
        "id": "2NrddPXB6cTc",
        "colab": {
          "base_uri": "https://localhost:8080/"
        },
        "outputId": "88f352a7-9805-4c32-e2fe-8b6cf214960a"
      },
      "execution_count": 10,
      "outputs": [
        {
          "output_type": "stream",
          "name": "stdout",
          "text": [
            "(100, 200, 300)\n"
          ]
        }
      ]
    },
    {
      "cell_type": "code",
      "source": [
        "#12. Write a code to access the second-to-last element of the tuple ('red', 'green', 'blue', 'yellow')\n",
        "tup = ('red', 'green', 'blue', 'yellow')\n",
        "print(tup[-2])"
      ],
      "metadata": {
        "id": "j3GW2Rej6cWD",
        "colab": {
          "base_uri": "https://localhost:8080/"
        },
        "outputId": "6672db81-2561-4bd5-a4f0-7e1732e2ecf6"
      },
      "execution_count": 12,
      "outputs": [
        {
          "output_type": "stream",
          "name": "stdout",
          "text": [
            "blue\n"
          ]
        }
      ]
    },
    {
      "cell_type": "code",
      "source": [
        "#13. Write a code to find the minimum number in the tuple (10, 20, 5, 15)\n",
        "tup = (10, 20, 5, 15)\n",
        "print(min(tup))"
      ],
      "metadata": {
        "id": "5hrHONqQ6cY1",
        "colab": {
          "base_uri": "https://localhost:8080/"
        },
        "outputId": "41252240-c4fe-4799-c26d-ce6cbaf35400"
      },
      "execution_count": 15,
      "outputs": [
        {
          "output_type": "stream",
          "name": "stdout",
          "text": [
            "5\n"
          ]
        }
      ]
    },
    {
      "cell_type": "code",
      "source": [
        "#14. Write a code to find the index of the element \"cat\" in the\n",
        "tup = ('dog', 'cat', 'rabbit')\n",
        "print(tup.index('cat'))"
      ],
      "metadata": {
        "id": "ihJVLsm-6cbi",
        "colab": {
          "base_uri": "https://localhost:8080/"
        },
        "outputId": "d1afe815-c7fa-4a8a-b4e7-976f39f627f6"
      },
      "execution_count": 16,
      "outputs": [
        {
          "output_type": "stream",
          "name": "stdout",
          "text": [
            "1\n"
          ]
        }
      ]
    },
    {
      "cell_type": "code",
      "source": [
        "#15. Write a code to create a tuple containing three different fruits and check if \"kiwi\" is in it\n",
        "tup=('mango','banana','kiwi')\n",
        "'kiwi' in tup"
      ],
      "metadata": {
        "id": "hNyXA7k86ceL",
        "colab": {
          "base_uri": "https://localhost:8080/"
        },
        "outputId": "dddae3a3-f64e-41ec-a6a6-a5588567d990"
      },
      "execution_count": 17,
      "outputs": [
        {
          "output_type": "execute_result",
          "data": {
            "text/plain": [
              "True"
            ]
          },
          "metadata": {},
          "execution_count": 17
        }
      ]
    },
    {
      "cell_type": "code",
      "source": [
        "#16. Write a code to create a set with the elements 'a', 'b', 'c' and print it\n",
        "set1={'a', 'b', 'c'}\n",
        "print(set1)"
      ],
      "metadata": {
        "id": "qu99E26n6cgs",
        "colab": {
          "base_uri": "https://localhost:8080/"
        },
        "outputId": "9918a5a5-4a64-4cec-81df-c0d060089c73"
      },
      "execution_count": 19,
      "outputs": [
        {
          "output_type": "stream",
          "name": "stdout",
          "text": [
            "{'a', 'b', 'c'}\n"
          ]
        }
      ]
    },
    {
      "cell_type": "code",
      "source": [
        "#17. Write a code to clear all elements from the set {1, 2, 3, 4, 5}\n",
        "set1= {1, 2, 3, 4, 5}\n",
        "set1.clear()\n",
        "print(set1)\n"
      ],
      "metadata": {
        "id": "t4KLLHTr6cmd",
        "colab": {
          "base_uri": "https://localhost:8080/"
        },
        "outputId": "9aea27ba-b51b-446d-8270-041659f6332f"
      },
      "execution_count": 20,
      "outputs": [
        {
          "output_type": "stream",
          "name": "stdout",
          "text": [
            "set()\n"
          ]
        }
      ]
    },
    {
      "cell_type": "code",
      "source": [
        "#18. Write a code to remove the element 4 from the set {1, 2, 3, 4}\n",
        "set1 = {1, 2, 3, 4}\n",
        "set1.remove(4)\n",
        "print(set1)"
      ],
      "metadata": {
        "id": "qv175Brf6cpR",
        "colab": {
          "base_uri": "https://localhost:8080/"
        },
        "outputId": "46a352dc-2bd1-4eff-b2a0-81d3f3d2ba92"
      },
      "execution_count": 22,
      "outputs": [
        {
          "output_type": "stream",
          "name": "stdout",
          "text": [
            "{1, 2, 3}\n"
          ]
        }
      ]
    },
    {
      "cell_type": "code",
      "source": [
        "#19. Write a code to find the union of two sets {1, 2, 3} and {3, 4, 5}\n",
        "set1= {1, 2, 3}\n",
        "set2= {3, 4, 5}\n",
        "print(set1 | set2)\n"
      ],
      "metadata": {
        "id": "QZlOyaq16csS",
        "colab": {
          "base_uri": "https://localhost:8080/"
        },
        "outputId": "b31f27c5-d9d9-43e5-c0c8-a4da0cdb7efe"
      },
      "execution_count": 25,
      "outputs": [
        {
          "output_type": "stream",
          "name": "stdout",
          "text": [
            "{1, 2, 3, 4, 5}\n"
          ]
        }
      ]
    },
    {
      "cell_type": "code",
      "source": [
        "#20. Write a code to find the intersection of two sets {1, 2, 3} and {2, 3, 4}\n",
        "set1= {1, 2, 3}\n",
        "set2= {2, 3, 4}\n",
        "print(set1 & set2)"
      ],
      "metadata": {
        "id": "oRPGZdWt6cvE",
        "colab": {
          "base_uri": "https://localhost:8080/"
        },
        "outputId": "2773d5d7-5fd8-4b0c-c0e9-a04673160656"
      },
      "execution_count": 26,
      "outputs": [
        {
          "output_type": "stream",
          "name": "stdout",
          "text": [
            "{2, 3}\n"
          ]
        }
      ]
    },
    {
      "cell_type": "code",
      "source": [
        "#21. Write a code to create a dictionary with the keys \"name\", \"age\", and \"city\", and print it\n",
        "dict={\"name\": \"Arkaprava Roy\" ,\n",
        "      \"age\" : \"25\" ,\n",
        "      \"city\" : \"Raiganj\" }\n",
        "print(dict)"
      ],
      "metadata": {
        "colab": {
          "base_uri": "https://localhost:8080/"
        },
        "id": "UIKshrmCRJTn",
        "outputId": "33de7a6a-71fe-401c-c97d-3a8fd7054077"
      },
      "execution_count": 30,
      "outputs": [
        {
          "output_type": "stream",
          "name": "stdout",
          "text": [
            "{'name': 'Arkaprava Roy', 'age': '25', 'city': 'Raiganj'}\n"
          ]
        }
      ]
    },
    {
      "cell_type": "code",
      "source": [
        "#22. Write a code to add a new key-value pair \"country\": \"USA\" to the dictionary {'name': 'John', 'age': 25}\n",
        "dict = {'name': 'John', 'age': 25}\n",
        "dict[\"country\"] = \"USA\"\n",
        "print(dict)\n"
      ],
      "metadata": {
        "colab": {
          "base_uri": "https://localhost:8080/"
        },
        "id": "qoSpK99tRJXK",
        "outputId": "56653b0f-2d00-4f2a-8291-98e258ccff48"
      },
      "execution_count": 34,
      "outputs": [
        {
          "output_type": "stream",
          "name": "stdout",
          "text": [
            "{'name': 'John', 'age': 25, 'country': 'USA'}\n"
          ]
        }
      ]
    },
    {
      "cell_type": "code",
      "source": [
        "#23. Write a code to access the value associated with the key \"name\" in the dictionary {'name': 'Alice', 'age': 30}\n",
        "dict = {'name': 'Alice', 'age': 30}\n",
        "print(dict[\"name\"])\n"
      ],
      "metadata": {
        "colab": {
          "base_uri": "https://localhost:8080/"
        },
        "id": "Q4KoSrZNRJaa",
        "outputId": "25585f81-69a3-4615-b3fb-f7445d02cef0"
      },
      "execution_count": 36,
      "outputs": [
        {
          "output_type": "stream",
          "name": "stdout",
          "text": [
            "Alice\n"
          ]
        }
      ]
    },
    {
      "cell_type": "code",
      "source": [
        "#24. Write a code to remove the key \"age\" from the dictionary {'name': 'Bob', 'age': 22, 'city': 'New York'}\n",
        "dict = {'name': 'Bob', 'age': 22, 'city': 'New York'}\n",
        "del dict[\"age\"]\n",
        "print(dict)\n"
      ],
      "metadata": {
        "colab": {
          "base_uri": "https://localhost:8080/"
        },
        "id": "C1Q_F3QGRJdc",
        "outputId": "2ddb824a-37df-4105-bc7e-27d1f67c1e8b"
      },
      "execution_count": 38,
      "outputs": [
        {
          "output_type": "stream",
          "name": "stdout",
          "text": [
            "{'name': 'Bob', 'city': 'New York'}\n"
          ]
        }
      ]
    },
    {
      "cell_type": "code",
      "source": [
        "#25. Write a code to check if the key \"city\" exists in the dictionary {'name': 'Alice', 'city': 'Paris'}\n",
        "dict = {'name': 'Alice', 'city': 'Paris'}\n",
        "'city' in dict\n"
      ],
      "metadata": {
        "colab": {
          "base_uri": "https://localhost:8080/"
        },
        "id": "OnRIdoczRJgW",
        "outputId": "aeb718d6-f982-42c3-eaa2-b8d9aab6a97f"
      },
      "execution_count": 39,
      "outputs": [
        {
          "output_type": "execute_result",
          "data": {
            "text/plain": [
              "True"
            ]
          },
          "metadata": {},
          "execution_count": 39
        }
      ]
    },
    {
      "cell_type": "code",
      "source": [
        "#26. Write a code to create a list, a tuple, and a dictionary, and print them all\n",
        "my_list = [1, 2, 3]\n",
        "my_tuple = (4, 5, 6)\n",
        "my_dict = {\"a\": 10, \"b\": 20}\n",
        "print(my_list, my_tuple, my_dict)"
      ],
      "metadata": {
        "colab": {
          "base_uri": "https://localhost:8080/"
        },
        "id": "Efhwt4amRJjV",
        "outputId": "8f05e97f-be7d-49ed-9e82-c116243d70e0"
      },
      "execution_count": 40,
      "outputs": [
        {
          "output_type": "stream",
          "name": "stdout",
          "text": [
            "[1, 2, 3] (4, 5, 6) {'a': 10, 'b': 20}\n"
          ]
        }
      ]
    },
    {
      "cell_type": "code",
      "source": [
        "#27. Write a code to create a list of 5 random numbers between 1 and 100, sort it in ascending order, and print the result\n",
        "my_list=[1,4,6,5,3]\n",
        "my_list.sort()\n",
        "print(my_list)"
      ],
      "metadata": {
        "colab": {
          "base_uri": "https://localhost:8080/"
        },
        "id": "p1YBHGw6RHql",
        "outputId": "bff29bad-2452-4cd5-adaf-8b89187a53eb"
      },
      "execution_count": 41,
      "outputs": [
        {
          "output_type": "stream",
          "name": "stdout",
          "text": [
            "[1, 3, 4, 5, 6]\n"
          ]
        }
      ]
    },
    {
      "cell_type": "code",
      "source": [
        "#28. Write a code to create a list with strings and print the element at the third index\n",
        "words = [\"apple\", \"banana\", \"cherry\", \"date\", \"kiwi\"]\n",
        "print(words[2])"
      ],
      "metadata": {
        "colab": {
          "base_uri": "https://localhost:8080/"
        },
        "id": "-oG-JGFaRHxe",
        "outputId": "c0495577-70df-4a51-8a8b-4975117b4f3d"
      },
      "execution_count": 44,
      "outputs": [
        {
          "output_type": "stream",
          "name": "stdout",
          "text": [
            "cherry\n"
          ]
        }
      ]
    },
    {
      "cell_type": "code",
      "source": [
        "##29. Write a code to combine two dictionaries into one and print the result\n",
        "dict1 = {\"a\": 1, \"b\": 2}\n",
        "dict2 = {\"c\": 3, \"d\": 4}\n",
        "dict1.update(dict2)\n",
        "print(dict1)"
      ],
      "metadata": {
        "colab": {
          "base_uri": "https://localhost:8080/"
        },
        "id": "tYZ111fERH7w",
        "outputId": "1b05f5a9-fb16-4ec3-8687-87ead1574fc7"
      },
      "execution_count": 48,
      "outputs": [
        {
          "output_type": "stream",
          "name": "stdout",
          "text": [
            "{'a': 1, 'b': 2, 'c': 3, 'd': 4}\n"
          ]
        }
      ]
    },
    {
      "cell_type": "code",
      "source": [
        "#30. Write a code to convert a list of strings into a set.\n",
        "words = [\"apple\", \"banana\", \"apple\", \"cherry\"]\n",
        "my_set = set(words)\n",
        "print(my_set)"
      ],
      "metadata": {
        "colab": {
          "base_uri": "https://localhost:8080/"
        },
        "id": "TKCfjlPORH5C",
        "outputId": "5dc7e092-2326-472c-80ae-b4d6fff5ccae"
      },
      "execution_count": 46,
      "outputs": [
        {
          "output_type": "stream",
          "name": "stdout",
          "text": [
            "{'banana', 'cherry', 'apple'}\n"
          ]
        }
      ]
    }
  ]
}