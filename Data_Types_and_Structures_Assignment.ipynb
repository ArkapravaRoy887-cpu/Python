{
  "nbformat": 4,
  "nbformat_minor": 0,
  "metadata": {
    "colab": {
      "provenance": []
    },
    "kernelspec": {
      "name": "python3",
      "display_name": "Python 3"
    },
    "language_info": {
      "name": "python"
    }
  },
  "cells": [
    {
      "cell_type": "markdown",
      "source": [
        "# Data Types and Structures Assignment"
      ],
      "metadata": {
        "id": "d-TXaQpqjjKG"
      }
    },
    {
      "cell_type": "markdown",
      "source": [
        "1. What are data structures, and why are they important?\n",
        "\n",
        "Data structures are systematic ways of organizing, storing, and managing data in a computer’s memory so that it can be used efficiently. They are important because they allow programmers to process large amounts of data quickly, save memory, and perform operations like searching, sorting, and updating more effectively. Common data structures in Python include lists, tuples, dictionaries, and sets, each serving different purposes depending on whether the data should be ordered, changeable, unique, or paired with keys.\n",
        "\n",
        "\n",
        "2. Difference between mutable and immutable data types with examples\n",
        "\n",
        "In Python, data types are classified as mutable or immutable based on whether they can be changed after creation. Mutable types allow modifications, meaning you can add, remove, or alter their elements without creating a new object. For example, a list [1, 2, 3] can be updated to [10, 2, 3] by replacing an element. Immutable types, on the other hand, cannot be altered once created. A tuple (1, 2, 3) or a string \"hello\" will always remain the same; attempting to change their contents results in an error. This distinction is crucial when deciding how data should be handled in a program.\n",
        "\n",
        "\n",
        "3. Main differences between lists and tuples in Python\n",
        "\n",
        "Lists and tuples in Python both hold collections of items, but their main difference lies in mutability. Lists are mutable, meaning their contents can be changed, extended, or removed, which makes them suitable for dynamic data. Tuples are immutable, meaning once created, they cannot be modified. This makes tuples faster and more memory-efficient, and they are often used to represent fixed collections of items such as coordinates. While lists use square brackets like [1, 2, 3], tuples use parentheses like (1, 2, 3).\n",
        "\n",
        "\n",
        "4. How dictionaries store data\n",
        "\n",
        "Dictionaries store data in the form of key-value pairs, where each unique key maps to a value. Internally, dictionaries use a structure called a hash table. When you create a dictionary, Python converts each key into a hash value and uses this hash to determine where the value should be stored in memory. This allows for very fast lookups, insertions, and deletions since you do not need to search through the entire collection; instead, Python directly finds the value using its key.\n",
        "\n",
        "\n",
        "5. Why use a set instead of a list in Python?\n",
        "\n",
        "Sets are used when you want to store unique values without worrying about duplicates. Unlike lists, sets automatically remove repeated elements. Another reason to prefer sets is their efficiency: checking if an element exists in a set is much faster than checking within a list, because sets use hashing internally. For example, if you add duplicate numbers to a set, they will only appear once, making them useful for filtering out repetitions.\n",
        "\n",
        "\n",
        "6. What is a string in Python, and how is it different from a list?\n",
        "\n",
        "A string in Python is a sequence of characters enclosed in single or double quotes, such as \"hello\". Strings are immutable, meaning once they are created, their characters cannot be changed. In contrast, a list is a mutable collection of elements, which means you can modify its contents at any time. While both strings and lists allow indexing and slicing, only lists support modification of individual elements. For example, you can replace an item in a list but you cannot replace a character in a string directly.\n",
        "\n",
        "\n",
        "7. How do tuples ensure data integrity in Python?\n",
        "\n",
        "Tuples ensure data integrity by being immutable. Since their contents cannot be altered after creation, they act as a reliable way of storing constant data. This immutability prevents accidental changes to important values, making tuples useful for fixed collections such as database records or configuration settings. Using tuples guarantees that the data remains consistent throughout the execution of the program.\n",
        "\n",
        "\n",
        "8. What is a hash table, and how does it relate to dictionaries?\n",
        "\n",
        "A hash table is a data structure that stores data using a system of key-hash mapping. Each key is processed by a hashing function that produces a numerical index, which determines where the associated value is stored. This process allows for very fast access to data. Python dictionaries are built on top of hash tables, which is why dictionary operations such as insertion, deletion, and retrieval are extremely efficient compared to searching through lists.\n",
        "\n",
        "\n",
        "9. Can lists contain different data types in Python?\n",
        "\n",
        "Yes, lists in Python are highly flexible and can contain elements of different data types within the same collection. For example, a single list can hold integers, strings, floating-point numbers, and even other lists or objects. This feature makes lists extremely powerful for handling mixed or structured data without needing separate data structures.\n",
        "\n",
        "\n",
        "10. Why are strings immutable in Python?\n",
        "\n",
        "Strings are immutable in Python for several important reasons. Firstly, immutability makes them memory-efficient because Python can safely share string objects across multiple parts of a program without worrying that they will be altered unexpectedly. Secondly, immutable strings allow them to be used as keys in dictionaries and elements in sets, both of which require stable, unchangeable values. Finally, immutability makes programs safer and more predictable, since string values cannot be altered accidentally once created.\n",
        "\n",
        "\n",
        "11. Advantages of dictionaries over lists\n",
        "\n",
        "Dictionaries provide a clear advantage over lists when data needs to be retrieved quickly using descriptive labels. Unlike lists, which require you to know the position (index) of an element, dictionaries allow you to access data directly by its key. This makes dictionaries more readable and efficient for representing structured data such as records, configurations, or mappings. For example, instead of remembering that the name of a student is at index 0 in a list, a dictionary can store the information as {\"name\": \"Alice\"}, making it much more intuitive.\n",
        "\n",
        "\n",
        "12. Scenario where a tuple is preferable over a list\n",
        "\n",
        "A tuple is preferable when you want to store data that should remain constant throughout the execution of the program. For example, storing the geographic coordinates of a location, such as (28.61, 77.23), makes sense as a tuple since those values should not be accidentally modified. Tuples also provide performance benefits, so they are often chosen when working with fixed, read-only collections of data.\n",
        "\n",
        "\n",
        "13. How do sets handle duplicate values?\n",
        "\n",
        "Sets automatically remove duplicate values and only store unique elements. When you attempt to add the same element multiple times to a set, Python only keeps one instance of it. This behavior makes sets useful for eliminating duplicates from large collections of data, ensuring that each element appears only once.\n",
        "\n",
        "\n",
        "14. How does the “in” keyword work differently for lists and dictionaries?\n",
        "\n",
        "The in keyword checks for membership, but its behavior differs between lists and dictionaries. For lists, in checks whether a given element exists within the list values. For dictionaries, however, in only checks whether a key exists, not the value. For example, in the dictionary {\"a\": 1}, the expression \"a\" in dict returns True, but 1 in dict returns False because values are not considered in the membership check.\n",
        "\n",
        "\n",
        "15. Can you modify the elements of a tuple? Explain why or why not.\n",
        "\n",
        "No, tuples cannot be modified because they are immutable data structures. Once a tuple is created, its contents are fixed, and attempts to change an element result in an error. This immutability makes tuples reliable for storing constant information that should not be altered, which is why they are often used to represent fixed sets of data.\n",
        "\n",
        "\n",
        "16. What is a nested dictionary, and example of its use case\n",
        "\n",
        "A nested dictionary is a dictionary that contains another dictionary as one or more of its values. It allows you to represent hierarchical or structured data. For example, student information can be stored in a nested dictionary like {\"Alice\": {\"age\": 21, \"grade\": \"A\"}, \"Bob\": {\"age\": 22, \"grade\": \"B\"}}. This structure makes it easier to group related information under a single key while still keeping the details organized.\n",
        "\n",
        "\n",
        "17. Time complexity of accessing elements in a dictionary\n",
        "\n",
        "Accessing elements in a dictionary is very efficient, with an average time complexity of O(1), meaning it takes constant time regardless of the dictionary’s size. This efficiency is due to the use of hash tables. In rare cases, where multiple keys map to the same hash value (called collisions), the complexity may degrade to O(n), but Python’s dictionary implementation handles these cases well, so performance is usually consistent and fast.\n",
        "\n",
        "\n",
        "18. Situations where lists are preferred over dictionaries\n",
        "\n",
        "Lists are preferred when order matters or when you simply need a sequence of items without needing descriptive keys. They are also suitable when duplicates are allowed, or when you need to iterate through elements in a specific order. For simple data storage or operations like sorting and slicing, lists are more natural to use than dictionaries.\n",
        "\n",
        "\n",
        "19. Why are dictionaries considered unordered, and how does that affect data retrieval?\n",
        "\n",
        "Dictionaries are considered unordered because they are designed for key-based lookups rather than positional access. Before Python 3.7, dictionaries did not maintain insertion order, but from Python 3.7 onwards, they preserve the order in which items were added. However, retrieval is always done by key, not by index, meaning you cannot rely on numerical positions as you would with a list.\n",
        "\n",
        "\n",
        "20. Difference between a list and a dictionary in terms of data retrieval\n",
        "\n",
        "The key difference between lists and dictionaries lies in how data is retrieved. In a list, elements are retrieved by their index, which represents their position in the sequence. For example, mylist[0] fetches the first element. In a dictionary, data is retrieved using keys, which act as labels for the values. For example, mydict[\"name\"] retrieves the value associated with the key \"name\". This makes dictionaries better suited for structured data, while lists are better for ordered collections.\n"
      ],
      "metadata": {
        "id": "LIZpFgw80ueF"
      }
    },
    {
      "cell_type": "code",
      "source": [
        "#1.Write a code to Create a string with your name and print it\n",
        "a=\"Arkaprava Roy\"\n",
        "print(a)"
      ],
      "metadata": {
        "colab": {
          "base_uri": "https://localhost:8080/"
        },
        "id": "hddT5PPi6akW",
        "outputId": "9cdd978b-bfc5-41b3-d797-5ecefbae5878"
      },
      "execution_count": null,
      "outputs": [
        {
          "output_type": "stream",
          "name": "stdout",
          "text": [
            "Arkaprava Roy\n"
          ]
        }
      ]
    },
    {
      "cell_type": "code",
      "source": [
        "#2.Write a code to Find the length of the string \"Hello World\"\n",
        "str1= \"Hello World\"\n",
        "print(len(str1))"
      ],
      "metadata": {
        "colab": {
          "base_uri": "https://localhost:8080/"
        },
        "id": "t4VClZcJ6b7M",
        "outputId": "331d7c5f-2359-4a39-a1ab-32e4a08db535"
      },
      "execution_count": null,
      "outputs": [
        {
          "output_type": "stream",
          "name": "stdout",
          "text": [
            "11\n"
          ]
        }
      ]
    },
    {
      "cell_type": "code",
      "source": [
        "#3.Write a code to Slice the first 3 characters from the string \"Python Programming\"\n",
        "str2 = \"Python Programming\"\n",
        "print(str2[0:3])"
      ],
      "metadata": {
        "colab": {
          "base_uri": "https://localhost:8080/"
        },
        "id": "SSH7qOG66b9v",
        "outputId": "1045aa8a-5818-4c40-f462-adb2ead5d81b"
      },
      "execution_count": null,
      "outputs": [
        {
          "output_type": "stream",
          "name": "stdout",
          "text": [
            "Pyt\n"
          ]
        }
      ]
    },
    {
      "cell_type": "code",
      "source": [
        "# 4.Write a code to Convert the string \"hello\" to uppercase\n",
        "str3=\"hello\"\n",
        "print(str3.upper())"
      ],
      "metadata": {
        "colab": {
          "base_uri": "https://localhost:8080/"
        },
        "id": "qgc8EiDt6cAY",
        "outputId": "47cab691-07cf-4f43-a747-d9ff978c75d5"
      },
      "execution_count": null,
      "outputs": [
        {
          "output_type": "stream",
          "name": "stdout",
          "text": [
            "HELLO\n"
          ]
        }
      ]
    },
    {
      "cell_type": "code",
      "source": [
        "#5.Write a code to Replace the word \"apple\" with \"orange\" in the string \"I like apple\"\n",
        "str4= \"I like apple\"\n",
        "str4.replace('apple','orange')"
      ],
      "metadata": {
        "id": "uHKwDB2V6cES",
        "colab": {
          "base_uri": "https://localhost:8080/",
          "height": 35
        },
        "outputId": "47fbc219-9158-4c02-8307-e2e1cd5a59f0"
      },
      "execution_count": null,
      "outputs": [
        {
          "output_type": "execute_result",
          "data": {
            "text/plain": [
              "'I like orange'"
            ],
            "application/vnd.google.colaboratory.intrinsic+json": {
              "type": "string"
            }
          },
          "metadata": {},
          "execution_count": 2
        }
      ]
    },
    {
      "cell_type": "code",
      "source": [
        "#6.Write a code to Create a list with numbers 1 to 5 and print it\n",
        "list1=[1,2,3,4,5]\n",
        "print(list1)"
      ],
      "metadata": {
        "id": "ZGIZpXi66cG5",
        "colab": {
          "base_uri": "https://localhost:8080/"
        },
        "outputId": "76eeaa54-ea5d-4604-dc13-07c5391c3faa"
      },
      "execution_count": null,
      "outputs": [
        {
          "output_type": "stream",
          "name": "stdout",
          "text": [
            "[1, 2, 3, 4, 5]\n"
          ]
        }
      ]
    },
    {
      "cell_type": "code",
      "source": [
        "#7.Write a code to Append the number 10 to the list [1, 2, 3, 4]\n",
        "list2= [1, 2, 3, 4]\n",
        "list2.append(10)\n",
        "print(list2)"
      ],
      "metadata": {
        "id": "yIlRbTPB6cJX",
        "colab": {
          "base_uri": "https://localhost:8080/"
        },
        "outputId": "3f811b66-c848-4f45-eb9d-4ba3c1a2e201"
      },
      "execution_count": null,
      "outputs": [
        {
          "output_type": "stream",
          "name": "stdout",
          "text": [
            "[1, 2, 3, 4, 10]\n"
          ]
        }
      ]
    },
    {
      "cell_type": "code",
      "source": [
        "#8.Write a code to Remove the number 3 from the list [1, 2, 3, 4, 5]\n",
        "list1= [1, 2, 3, 4, 5]\n",
        "list1.remove(3)\n",
        "print(list1)"
      ],
      "metadata": {
        "id": "9R_PCYWr6cL5",
        "colab": {
          "base_uri": "https://localhost:8080/"
        },
        "outputId": "cd4eae77-f053-4026-edf5-02c177dc7271"
      },
      "execution_count": 2,
      "outputs": [
        {
          "output_type": "stream",
          "name": "stdout",
          "text": [
            "[1, 2, 4, 5]\n"
          ]
        }
      ]
    },
    {
      "cell_type": "code",
      "source": [
        "#9.Write a code to Access the second element in the list ['a', 'b', 'c', 'd']\n",
        "list1= ['a', 'b', 'c', 'd']\n",
        "print(list1[1])"
      ],
      "metadata": {
        "id": "Pvy2SAAu6cOd",
        "colab": {
          "base_uri": "https://localhost:8080/"
        },
        "outputId": "7e0ba522-eb96-4ef2-9edf-b31a23f06934"
      },
      "execution_count": 3,
      "outputs": [
        {
          "output_type": "stream",
          "name": "stdout",
          "text": [
            "b\n"
          ]
        }
      ]
    },
    {
      "cell_type": "code",
      "source": [
        "#10. Write a code to reverse the list [10, 20, 30, 40, 50].\n",
        "list1= [10, 20, 30, 40, 50]\n",
        "print(list1[::-1])\n"
      ],
      "metadata": {
        "id": "m5EmqU_k6cQ-",
        "colab": {
          "base_uri": "https://localhost:8080/"
        },
        "outputId": "60d6e7ec-5a71-42f3-baaa-c2a194aa0b83"
      },
      "execution_count": 9,
      "outputs": [
        {
          "output_type": "stream",
          "name": "stdout",
          "text": [
            "[50, 40, 30, 20, 10]\n"
          ]
        }
      ]
    },
    {
      "cell_type": "code",
      "source": [
        "#11. Write a code to create a tuple with the elements 100, 200, 300 and print it\n",
        "tup=(100,200,300)\n",
        "print(tup)"
      ],
      "metadata": {
        "id": "2NrddPXB6cTc",
        "colab": {
          "base_uri": "https://localhost:8080/"
        },
        "outputId": "88f352a7-9805-4c32-e2fe-8b6cf214960a"
      },
      "execution_count": 10,
      "outputs": [
        {
          "output_type": "stream",
          "name": "stdout",
          "text": [
            "(100, 200, 300)\n"
          ]
        }
      ]
    },
    {
      "cell_type": "code",
      "source": [
        "#12. Write a code to access the second-to-last element of the tuple ('red', 'green', 'blue', 'yellow')\n",
        "tup = ('red', 'green', 'blue', 'yellow')\n",
        "print(tup[-2])"
      ],
      "metadata": {
        "id": "j3GW2Rej6cWD",
        "colab": {
          "base_uri": "https://localhost:8080/"
        },
        "outputId": "6672db81-2561-4bd5-a4f0-7e1732e2ecf6"
      },
      "execution_count": 12,
      "outputs": [
        {
          "output_type": "stream",
          "name": "stdout",
          "text": [
            "blue\n"
          ]
        }
      ]
    },
    {
      "cell_type": "code",
      "source": [
        "#13. Write a code to find the minimum number in the tuple (10, 20, 5, 15)\n",
        "tup = (10, 20, 5, 15)\n",
        "print(min(tup))"
      ],
      "metadata": {
        "id": "5hrHONqQ6cY1",
        "colab": {
          "base_uri": "https://localhost:8080/"
        },
        "outputId": "41252240-c4fe-4799-c26d-ce6cbaf35400"
      },
      "execution_count": 15,
      "outputs": [
        {
          "output_type": "stream",
          "name": "stdout",
          "text": [
            "5\n"
          ]
        }
      ]
    },
    {
      "cell_type": "code",
      "source": [
        "#14. Write a code to find the index of the element \"cat\" in the\n",
        "tup = ('dog', 'cat', 'rabbit')\n",
        "print(tup.index('cat'))"
      ],
      "metadata": {
        "id": "ihJVLsm-6cbi",
        "colab": {
          "base_uri": "https://localhost:8080/"
        },
        "outputId": "d1afe815-c7fa-4a8a-b4e7-976f39f627f6"
      },
      "execution_count": 16,
      "outputs": [
        {
          "output_type": "stream",
          "name": "stdout",
          "text": [
            "1\n"
          ]
        }
      ]
    },
    {
      "cell_type": "code",
      "source": [
        "#15. Write a code to create a tuple containing three different fruits and check if \"kiwi\" is in it\n",
        "tup=('mango','banana','kiwi')\n",
        "'kiwi' in tup"
      ],
      "metadata": {
        "id": "hNyXA7k86ceL",
        "colab": {
          "base_uri": "https://localhost:8080/"
        },
        "outputId": "dddae3a3-f64e-41ec-a6a6-a5588567d990"
      },
      "execution_count": 17,
      "outputs": [
        {
          "output_type": "execute_result",
          "data": {
            "text/plain": [
              "True"
            ]
          },
          "metadata": {},
          "execution_count": 17
        }
      ]
    },
    {
      "cell_type": "code",
      "source": [
        "#16. Write a code to create a set with the elements 'a', 'b', 'c' and print it\n",
        "set1={'a', 'b', 'c'}\n",
        "print(set1)"
      ],
      "metadata": {
        "id": "qu99E26n6cgs",
        "colab": {
          "base_uri": "https://localhost:8080/"
        },
        "outputId": "9918a5a5-4a64-4cec-81df-c0d060089c73"
      },
      "execution_count": 19,
      "outputs": [
        {
          "output_type": "stream",
          "name": "stdout",
          "text": [
            "{'a', 'b', 'c'}\n"
          ]
        }
      ]
    },
    {
      "cell_type": "code",
      "source": [
        "#17. Write a code to clear all elements from the set {1, 2, 3, 4, 5}\n",
        "set1= {1, 2, 3, 4, 5}\n",
        "set1.clear()\n",
        "print(set1)\n"
      ],
      "metadata": {
        "id": "t4KLLHTr6cmd",
        "colab": {
          "base_uri": "https://localhost:8080/"
        },
        "outputId": "9aea27ba-b51b-446d-8270-041659f6332f"
      },
      "execution_count": 20,
      "outputs": [
        {
          "output_type": "stream",
          "name": "stdout",
          "text": [
            "set()\n"
          ]
        }
      ]
    },
    {
      "cell_type": "code",
      "source": [
        "#18. Write a code to remove the element 4 from the set {1, 2, 3, 4}\n",
        "set1 = {1, 2, 3, 4}\n",
        "set1.remove(4)\n",
        "print(set1)"
      ],
      "metadata": {
        "id": "qv175Brf6cpR",
        "colab": {
          "base_uri": "https://localhost:8080/"
        },
        "outputId": "46a352dc-2bd1-4eff-b2a0-81d3f3d2ba92"
      },
      "execution_count": 22,
      "outputs": [
        {
          "output_type": "stream",
          "name": "stdout",
          "text": [
            "{1, 2, 3}\n"
          ]
        }
      ]
    },
    {
      "cell_type": "code",
      "source": [
        "#19. Write a code to find the union of two sets {1, 2, 3} and {3, 4, 5}\n",
        "set1= {1, 2, 3}\n",
        "set2= {3, 4, 5}\n",
        "print(set1 | set2)\n"
      ],
      "metadata": {
        "id": "QZlOyaq16csS",
        "colab": {
          "base_uri": "https://localhost:8080/"
        },
        "outputId": "b31f27c5-d9d9-43e5-c0c8-a4da0cdb7efe"
      },
      "execution_count": 25,
      "outputs": [
        {
          "output_type": "stream",
          "name": "stdout",
          "text": [
            "{1, 2, 3, 4, 5}\n"
          ]
        }
      ]
    },
    {
      "cell_type": "code",
      "source": [
        "#20. Write a code to find the intersection of two sets {1, 2, 3} and {2, 3, 4}\n",
        "set1= {1, 2, 3}\n",
        "set2= {2, 3, 4}\n",
        "print(set1 & set2)"
      ],
      "metadata": {
        "id": "oRPGZdWt6cvE",
        "colab": {
          "base_uri": "https://localhost:8080/"
        },
        "outputId": "2773d5d7-5fd8-4b0c-c0e9-a04673160656"
      },
      "execution_count": 26,
      "outputs": [
        {
          "output_type": "stream",
          "name": "stdout",
          "text": [
            "{2, 3}\n"
          ]
        }
      ]
    },
    {
      "cell_type": "code",
      "source": [
        "#21. Write a code to create a dictionary with the keys \"name\", \"age\", and \"city\", and print it\n",
        "dict={\"name\": \"Arkaprava Roy\" ,\n",
        "      \"age\" : \"25\" ,\n",
        "      \"city\" : \"Raiganj\" }\n",
        "print(dict)"
      ],
      "metadata": {
        "colab": {
          "base_uri": "https://localhost:8080/"
        },
        "id": "UIKshrmCRJTn",
        "outputId": "33de7a6a-71fe-401c-c97d-3a8fd7054077"
      },
      "execution_count": 30,
      "outputs": [
        {
          "output_type": "stream",
          "name": "stdout",
          "text": [
            "{'name': 'Arkaprava Roy', 'age': '25', 'city': 'Raiganj'}\n"
          ]
        }
      ]
    },
    {
      "cell_type": "code",
      "source": [
        "#22. Write a code to add a new key-value pair \"country\": \"USA\" to the dictionary {'name': 'John', 'age': 25}\n",
        "dict = {'name': 'John', 'age': 25}\n",
        "dict[\"country\"] = \"USA\"\n",
        "print(dict)\n"
      ],
      "metadata": {
        "colab": {
          "base_uri": "https://localhost:8080/"
        },
        "id": "qoSpK99tRJXK",
        "outputId": "56653b0f-2d00-4f2a-8291-98e258ccff48"
      },
      "execution_count": 34,
      "outputs": [
        {
          "output_type": "stream",
          "name": "stdout",
          "text": [
            "{'name': 'John', 'age': 25, 'country': 'USA'}\n"
          ]
        }
      ]
    },
    {
      "cell_type": "code",
      "source": [
        "#23. Write a code to access the value associated with the key \"name\" in the dictionary {'name': 'Alice', 'age': 30}\n",
        "dict = {'name': 'Alice', 'age': 30}\n",
        "print(dict[\"name\"])\n"
      ],
      "metadata": {
        "colab": {
          "base_uri": "https://localhost:8080/"
        },
        "id": "Q4KoSrZNRJaa",
        "outputId": "25585f81-69a3-4615-b3fb-f7445d02cef0"
      },
      "execution_count": 36,
      "outputs": [
        {
          "output_type": "stream",
          "name": "stdout",
          "text": [
            "Alice\n"
          ]
        }
      ]
    },
    {
      "cell_type": "code",
      "source": [
        "#24. Write a code to remove the key \"age\" from the dictionary {'name': 'Bob', 'age': 22, 'city': 'New York'}\n",
        "dict = {'name': 'Bob', 'age': 22, 'city': 'New York'}\n",
        "del dict[\"age\"]\n",
        "print(dict)\n"
      ],
      "metadata": {
        "colab": {
          "base_uri": "https://localhost:8080/"
        },
        "id": "C1Q_F3QGRJdc",
        "outputId": "2ddb824a-37df-4105-bc7e-27d1f67c1e8b"
      },
      "execution_count": 38,
      "outputs": [
        {
          "output_type": "stream",
          "name": "stdout",
          "text": [
            "{'name': 'Bob', 'city': 'New York'}\n"
          ]
        }
      ]
    },
    {
      "cell_type": "code",
      "source": [
        "#25. Write a code to check if the key \"city\" exists in the dictionary {'name': 'Alice', 'city': 'Paris'}\n",
        "dict = {'name': 'Alice', 'city': 'Paris'}\n",
        "'city' in dict\n"
      ],
      "metadata": {
        "colab": {
          "base_uri": "https://localhost:8080/"
        },
        "id": "OnRIdoczRJgW",
        "outputId": "aeb718d6-f982-42c3-eaa2-b8d9aab6a97f"
      },
      "execution_count": 39,
      "outputs": [
        {
          "output_type": "execute_result",
          "data": {
            "text/plain": [
              "True"
            ]
          },
          "metadata": {},
          "execution_count": 39
        }
      ]
    },
    {
      "cell_type": "code",
      "source": [
        "#26. Write a code to create a list, a tuple, and a dictionary, and print them all\n",
        "my_list = [1, 2, 3]\n",
        "my_tuple = (4, 5, 6)\n",
        "my_dict = {\"a\": 10, \"b\": 20}\n",
        "print(my_list, my_tuple, my_dict)"
      ],
      "metadata": {
        "colab": {
          "base_uri": "https://localhost:8080/"
        },
        "id": "Efhwt4amRJjV",
        "outputId": "8f05e97f-be7d-49ed-9e82-c116243d70e0"
      },
      "execution_count": 40,
      "outputs": [
        {
          "output_type": "stream",
          "name": "stdout",
          "text": [
            "[1, 2, 3] (4, 5, 6) {'a': 10, 'b': 20}\n"
          ]
        }
      ]
    },
    {
      "cell_type": "code",
      "source": [
        "#27. Write a code to create a list of 5 random numbers between 1 and 100, sort it in ascending order, and print the result\n",
        "my_list=[1,4,6,5,3]\n",
        "my_list.sort()\n",
        "print(my_list)"
      ],
      "metadata": {
        "colab": {
          "base_uri": "https://localhost:8080/"
        },
        "id": "p1YBHGw6RHql",
        "outputId": "bff29bad-2452-4cd5-adaf-8b89187a53eb"
      },
      "execution_count": 41,
      "outputs": [
        {
          "output_type": "stream",
          "name": "stdout",
          "text": [
            "[1, 3, 4, 5, 6]\n"
          ]
        }
      ]
    },
    {
      "cell_type": "code",
      "source": [
        "#28. Write a code to create a list with strings and print the element at the third index\n",
        "words = [\"apple\", \"banana\", \"cherry\", \"date\", \"kiwi\"]\n",
        "print(words[2])"
      ],
      "metadata": {
        "colab": {
          "base_uri": "https://localhost:8080/"
        },
        "id": "-oG-JGFaRHxe",
        "outputId": "c0495577-70df-4a51-8a8b-4975117b4f3d"
      },
      "execution_count": 44,
      "outputs": [
        {
          "output_type": "stream",
          "name": "stdout",
          "text": [
            "cherry\n"
          ]
        }
      ]
    },
    {
      "cell_type": "code",
      "source": [
        "##29. Write a code to combine two dictionaries into one and print the result\n",
        "dict1 = {\"a\": 1, \"b\": 2}\n",
        "dict2 = {\"c\": 3, \"d\": 4}\n",
        "dict1.update(dict2)\n",
        "print(dict1)"
      ],
      "metadata": {
        "colab": {
          "base_uri": "https://localhost:8080/"
        },
        "id": "tYZ111fERH7w",
        "outputId": "1b05f5a9-fb16-4ec3-8687-87ead1574fc7"
      },
      "execution_count": 48,
      "outputs": [
        {
          "output_type": "stream",
          "name": "stdout",
          "text": [
            "{'a': 1, 'b': 2, 'c': 3, 'd': 4}\n"
          ]
        }
      ]
    },
    {
      "cell_type": "code",
      "source": [
        "#30. Write a code to convert a list of strings into a set.\n",
        "words = [\"apple\", \"banana\", \"apple\", \"cherry\"]\n",
        "my_set = set(words)\n",
        "print(my_set)"
      ],
      "metadata": {
        "colab": {
          "base_uri": "https://localhost:8080/"
        },
        "id": "TKCfjlPORH5C",
        "outputId": "5dc7e092-2326-472c-80ae-b4d6fff5ccae"
      },
      "execution_count": 46,
      "outputs": [
        {
          "output_type": "stream",
          "name": "stdout",
          "text": [
            "{'banana', 'cherry', 'apple'}\n"
          ]
        }
      ]
    },
    {
      "cell_type": "code",
      "source": [
        "#"
      ],
      "metadata": {
        "id": "uicv1UDqRH-3"
      },
      "execution_count": null,
      "outputs": []
    },
    {
      "cell_type": "code",
      "source": [
        "#"
      ],
      "metadata": {
        "id": "9pVbFgKgRIBq"
      },
      "execution_count": null,
      "outputs": []
    },
    {
      "cell_type": "code",
      "source": [
        "#"
      ],
      "metadata": {
        "id": "74Wu9_YdRHXs"
      },
      "execution_count": null,
      "outputs": []
    },
    {
      "cell_type": "code",
      "source": [],
      "metadata": {
        "id": "HZ3mcnUV6c0u"
      },
      "execution_count": null,
      "outputs": []
    },
    {
      "cell_type": "code",
      "source": [],
      "metadata": {
        "id": "pzIgtjsY6c35"
      },
      "execution_count": null,
      "outputs": []
    },
    {
      "cell_type": "code",
      "source": [],
      "metadata": {
        "id": "i10jDK-46c63"
      },
      "execution_count": null,
      "outputs": []
    },
    {
      "cell_type": "code",
      "source": [],
      "metadata": {
        "id": "_XmYBxy-6c99"
      },
      "execution_count": null,
      "outputs": []
    },
    {
      "cell_type": "code",
      "source": [],
      "metadata": {
        "id": "dR94DZma6dA8"
      },
      "execution_count": null,
      "outputs": []
    },
    {
      "cell_type": "code",
      "source": [],
      "metadata": {
        "id": "nr05XgAx6dDl"
      },
      "execution_count": null,
      "outputs": []
    },
    {
      "cell_type": "code",
      "source": [],
      "metadata": {
        "id": "fa-5fHrb6dGT"
      },
      "execution_count": null,
      "outputs": []
    },
    {
      "cell_type": "code",
      "source": [],
      "metadata": {
        "id": "znYnHF4L6dI5"
      },
      "execution_count": null,
      "outputs": []
    },
    {
      "cell_type": "code",
      "source": [],
      "metadata": {
        "id": "SKJ3xB1v6dLc"
      },
      "execution_count": null,
      "outputs": []
    },
    {
      "cell_type": "code",
      "source": [],
      "metadata": {
        "id": "E9wB-1qH6dN5"
      },
      "execution_count": null,
      "outputs": []
    },
    {
      "cell_type": "code",
      "source": [],
      "metadata": {
        "id": "pk6ogZVY6dQY"
      },
      "execution_count": null,
      "outputs": []
    },
    {
      "cell_type": "code",
      "source": [],
      "metadata": {
        "id": "2PviBnfA6dS6"
      },
      "execution_count": null,
      "outputs": []
    },
    {
      "cell_type": "code",
      "source": [],
      "metadata": {
        "id": "wH9r7k2w6dVi"
      },
      "execution_count": null,
      "outputs": []
    },
    {
      "cell_type": "code",
      "source": [],
      "metadata": {
        "id": "BtYQ6dFD6dYI"
      },
      "execution_count": null,
      "outputs": []
    },
    {
      "cell_type": "code",
      "source": [],
      "metadata": {
        "id": "WMoUiCar6daq"
      },
      "execution_count": null,
      "outputs": []
    },
    {
      "cell_type": "code",
      "source": [],
      "metadata": {
        "id": "eWWl0y2b6ddG"
      },
      "execution_count": null,
      "outputs": []
    },
    {
      "cell_type": "code",
      "source": [],
      "metadata": {
        "id": "0zjlrEA16dfx"
      },
      "execution_count": null,
      "outputs": []
    },
    {
      "cell_type": "code",
      "source": [],
      "metadata": {
        "id": "mHOoK6iS6diX"
      },
      "execution_count": null,
      "outputs": []
    },
    {
      "cell_type": "code",
      "source": [],
      "metadata": {
        "id": "ZWatymiN6dk8"
      },
      "execution_count": null,
      "outputs": []
    },
    {
      "cell_type": "code",
      "source": [],
      "metadata": {
        "id": "5pkV4EhB6dno"
      },
      "execution_count": null,
      "outputs": []
    }
  ]
}