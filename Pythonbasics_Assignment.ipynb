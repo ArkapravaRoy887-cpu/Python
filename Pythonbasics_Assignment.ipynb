{
  "nbformat": 4,
  "nbformat_minor": 0,
  "metadata": {
    "colab": {
      "provenance": []
    },
    "kernelspec": {
      "name": "python3",
      "display_name": "Python 3"
    },
    "language_info": {
      "name": "python"
    }
  },
  "cells": [
    {
      "cell_type": "markdown",
      "source": [
        "#Pythonbasics"
      ],
      "metadata": {
        "id": "PZknzEU6U2Wp"
      }
    },
    {
      "cell_type": "markdown",
      "source": [
        "1. What is Python, and why is it popular?\n",
        "\n",
        "   Python is a modern, high-level programming language that emphasizes readability and simplicity. Python’s popularity stems from its versatility—it can be used for tasks ranging from small scripts to large applications. Additionally, Python has an extensive collection of libraries and frameworks that assist in areas such as data analysis, web development, artificial intelligence, and automation.\n",
        "\n",
        "2. What is an interpreter in Python?\n",
        "\n",
        "   An interpreter is a tool that reads and executes Python code line by line. Unlike compiled languages where the entire code is transformed into machine language before execution, Python’s interpreter processes code line after line. This means that developers can test and debug their code in real time, which makes debugging easier but can be slower than compiled languages.\n",
        "\n",
        "3. What are pre-defined keywords in Python?\n",
        "\n",
        "   Keywords are words that Python reserves for specific commands or operations. These predefined words cannot be used as identifiers like variable names because they already serve distinct functions within the language's structure. For example, if starts a decision-making block, def defines a function, and return is used to send a value back from a function. Python’s list of keywords helps structure code, making it more organized and easier to follow.\n",
        "\n",
        "4. Can keywords be used as variable names?\n",
        "\n",
        "   No, keywords cannot be used as variable names because they are integral to the programming language’s syntax. If we attempt to use a keyword as a variable, Python will generate a syntax error since it expects the keyword to perform its predefined operation rather than act as a placeholder for data.\n",
        "\n",
        "5. What is mutability in Python?\n",
        "\n",
        "   Mutability refers to whether or not an object’s contents can be changed after it is created. Objects like lists, dictionaries, and sets are mutable because you can add, remove, or modify their contents without creating a new object. Immutable objects, such as integers, strings, and tuples, cannot be altered after creation. If you attempt to change an immutable object, Python will create a new object instead, preserving the original.\n",
        "\n",
        "6. Why are lists mutable, but tuples are immutable?\n",
        "\n",
        "   Lists are mutable because they are designed to be flexible and adaptable to changes. When working on programs that require dynamic data manipulation, lists provide methods to append, insert, or remove elements. In contrast, tuples are immutable because they are intended to store fixed data that should not be changed, making them more secure and efficient for constant data storage. Immutability also makes tuples hashable, allowing them to be used as keys in dictionaries.\n",
        "\n",
        "7. What is the difference between “==” and “is” operators in Python?\n",
        "\n",
        "   The == operator compares the content or value of two objects to check if they are the same, regardless of their location in memory. On the other hand, the is operator checks if two variables point to the same memory address or object. This distinction is important because two objects can have the same value but reside in different locations, in which case == will return True, while is will return False.\n",
        "\n",
        "8. What are logical operators in Python?\n",
        "\n",
        "   Logical operators are used to combine or invert conditional expressions, allowing programs to make complex decisions. The three main logical operators in Python are:\n",
        "\n",
        "   and: True if both conditions are true.\n",
        "\n",
        "   or: True if at least one condition is true.\n",
        "\n",
        "   not: Reverses the truth value of a condition.\n",
        "\n",
        "   These operators help build more expressive and powerful decision-making structures in programs, allowing developers to handle multiple conditions efficiently.\n",
        "\n",
        "9. What is type casting in Python?\n",
        "\n",
        "   Type casting is the process of converting one data type into another. This allows different types of data to work together seamlessly. Python supports both implicit and explicit type casting. Implicit casting occurs automatically when Python encounters operations involving multiple data types, while explicit casting requires the programmer to manually instruct Python on how to convert data, using functions like int(), float(), or str().\n",
        "\n",
        "10. What is the difference between implicit and explicit type casting?\n",
        "\n",
        "    Implicit type casting is automatically handled by Python when it needs to perform operations between different types without loss of information. For example, when an integer and a floating-point number are added, the integer is converted into a float for accurate results. Explicit type casting is when the programmer consciously decides to convert data from one type to another using conversion functions. This is often necessary when handling user input or when precise data types are required for processing.\n",
        "\n",
        "11. What is the purpose of conditional statements in Python?\n",
        "\n",
        "    Conditional statements allow a program to perform different actions based on the evaluation of certain conditions. They provide a way for the program to make decisions, executing specific blocks of code only when certain criteria are met. This feature enables programs to react dynamically to inputs or changes in the environment, making them interactive and intelligent.\n",
        "\n",
        "12. How does the elif statement work?\n",
        "\n",
        "    The elif statement is used after an if condition and before an optional else block to check for multiple conditions sequentially. If the first condition is false, Python evaluates the elif condition. If that’s true, it executes the corresponding block and skips the rest. If all conditions are false, the else block will run, providing a default action. This structure simplifies complex decision trees by clearly outlining multiple possible scenarios.\n",
        "\n",
        "13. What is the difference between for and while loops?\n",
        "\n",
        "    A for loop is ideal when the number of iterations is predetermined or when iterating over items in a collection like a list or range. A while loop is more flexible because it continues running as long as a specific condition holds true, making it suitable for cases where the number of iterations cannot be known beforehand. The while loop depends entirely on the condition being checked at runtime.\n",
        "\n",
        "14. Describe a scenario where a while loop is more suitable than a for loop.\n",
        "\n",
        "    A while loop is better suited for tasks that require repeated actions until a certain event occurs. For example, a program that waits for user input until they type \"exit\" would use a while loop because the total number of inputs is unknown. The loop keeps checking the user’s response, allowing the program to remain responsive and flexible based on user interaction."
      ],
      "metadata": {
        "id": "AHXBzlL4yt3Y"
      }
    },
    {
      "cell_type": "code",
      "execution_count": null,
      "metadata": {
        "colab": {
          "base_uri": "https://localhost:8080/"
        },
        "id": "K6fuDKP2x2-K",
        "outputId": "dce18d4c-8d15-4e90-98c3-c5570613ccfe"
      },
      "outputs": [
        {
          "output_type": "stream",
          "name": "stdout",
          "text": [
            "Hello, World!\n"
          ]
        }
      ],
      "source": [
        "# 1 Write a Python program to print \"Hello, World!\"\n",
        "\n",
        "print(\"Hello, World!\")"
      ]
    },
    {
      "cell_type": "code",
      "source": [
        "# 2 Write a Python program that displays your name and age\n",
        "name=input(\"Enter your name\")\n",
        "age=input(\"Enter your age\")\n",
        "print (\"Your name is\",name,\"and age is\",age )"
      ],
      "metadata": {
        "id": "P6v1_SKQ0UW5",
        "colab": {
          "base_uri": "https://localhost:8080/"
        },
        "outputId": "6b8cbff1-68f3-45d0-e142-163a0d9c5a53"
      },
      "execution_count": null,
      "outputs": [
        {
          "output_type": "stream",
          "name": "stdout",
          "text": [
            "Enter your nameArka\n",
            "Enter your age25\n",
            "Your name is Arka and age is 25\n"
          ]
        }
      ]
    },
    {
      "cell_type": "code",
      "source": [
        "# 3 Write code to print all the pre-defined keywords in Python using the keyword library\n",
        "import keyword\n",
        "keywords = keyword.kwlist\n",
        "for kw in keywords:\n",
        "    print(kw)\n"
      ],
      "metadata": {
        "id": "QUnBBCCrT2ag",
        "colab": {
          "base_uri": "https://localhost:8080/"
        },
        "outputId": "7d23d933-db9b-4edb-ee80-a7e99728a216"
      },
      "execution_count": 3,
      "outputs": [
        {
          "output_type": "stream",
          "name": "stdout",
          "text": [
            "False\n",
            "None\n",
            "True\n",
            "and\n",
            "as\n",
            "assert\n",
            "async\n",
            "await\n",
            "break\n",
            "class\n",
            "continue\n",
            "def\n",
            "del\n",
            "elif\n",
            "else\n",
            "except\n",
            "finally\n",
            "for\n",
            "from\n",
            "global\n",
            "if\n",
            "import\n",
            "in\n",
            "is\n",
            "lambda\n",
            "nonlocal\n",
            "not\n",
            "or\n",
            "pass\n",
            "raise\n",
            "return\n",
            "try\n",
            "while\n",
            "with\n",
            "yield\n"
          ]
        }
      ]
    },
    {
      "cell_type": "code",
      "source": [
        "# 4 Write a program that checks if a given word is a Python keyword\n",
        "\n",
        "import keyword\n",
        "word = input(\"Enter a word: \")\n",
        "if keyword.iskeyword(word):\n",
        "    print(f\"{word} is a Python keyword.\")\n",
        "else:\n",
        "    print(f\"{word} is not a Python keyword.\")"
      ],
      "metadata": {
        "colab": {
          "base_uri": "https://localhost:8080/"
        },
        "id": "K_EpMtcgGjt3",
        "outputId": "afcda7e1-e1c7-4509-8233-f7ff69497b16"
      },
      "execution_count": 5,
      "outputs": [
        {
          "output_type": "stream",
          "name": "stdout",
          "text": [
            "Enter a word: while\n",
            "while is a Python keyword.\n"
          ]
        }
      ]
    },
    {
      "cell_type": "code",
      "source": [
        "# 5. Create a list and tuple in Python, and demonstrate how attempting to change an element works differently for each.\n",
        "\n",
        "list_1 = [1, 2, 3, 4, 5]\n",
        "tuple_1 = (1, 2, 3, 4, 5)\n",
        "list_1[0] = 10\n",
        "print(list_1)\n",
        "try:\n",
        "    tuple_1[0] = 100\n",
        "except TypeError as e:\n",
        "    print(\"Error when modifying tuple:\", e)"
      ],
      "metadata": {
        "colab": {
          "base_uri": "https://localhost:8080/"
        },
        "id": "ghf4IdzYGj1f",
        "outputId": "630e3b26-5f3b-4f0f-a177-9cf8f4ffcf4f"
      },
      "execution_count": 8,
      "outputs": [
        {
          "output_type": "stream",
          "name": "stdout",
          "text": [
            "[10, 2, 3, 4, 5]\n",
            "Error when modifying tuple: 'tuple' object does not support item assignment\n"
          ]
        }
      ]
    },
    {
      "cell_type": "code",
      "source": [
        "#6. Write a function to demonstrate the behavior of mutable and immutable arguments.\n",
        "\n",
        "def modify_values(a, b):\n",
        "    a = a + 10\n",
        "    b.append(10)\n",
        "    print(\"Inside function:\", a, b)\n",
        "\n",
        "num = 5\n",
        "lst = [1, 2, 3]\n",
        "\n",
        "modify_values(num, lst)\n",
        "\n",
        "print(\"Outside function:\", num, lst)"
      ],
      "metadata": {
        "colab": {
          "base_uri": "https://localhost:8080/"
        },
        "id": "44_uXrVqGj4q",
        "outputId": "8379a0c5-550a-42dc-e5e4-762416c8291c"
      },
      "execution_count": 9,
      "outputs": [
        {
          "output_type": "stream",
          "name": "stdout",
          "text": [
            "Inside function: 15 [1, 2, 3, 10]\n",
            "Outside function: 5 [1, 2, 3, 10]\n"
          ]
        }
      ]
    },
    {
      "cell_type": "code",
      "source": [
        "# 7. Write a program that performs basic arithmetic operations on two user-input numbers.\n",
        "num1 = float(input(\"Enter first number: \"))\n",
        "num2 = float(input(\"Enter second number: \"))\n",
        "\n",
        "print(\"Addition:\", num1 + num2)\n",
        "print(\"Subtraction:\", num1 - num2)\n",
        "print(\"Multiplication:\", num1 * num2)\n",
        "\n",
        "if num2==0:\n",
        "    print(\"Division is not possible by 0\")\n",
        "else:\n",
        "  print(\"Division:\", num1 / num2)\n"
      ],
      "metadata": {
        "colab": {
          "base_uri": "https://localhost:8080/"
        },
        "id": "CGSOKjU0Gj77",
        "outputId": "fd66920a-f08f-42ba-d2f9-cd5c4541d730"
      },
      "execution_count": 12,
      "outputs": [
        {
          "output_type": "stream",
          "name": "stdout",
          "text": [
            "Enter first number: 5\n",
            "Enter second number: 4\n",
            "Addition: 9.0\n",
            "Subtraction: 1.0\n",
            "Multiplication: 20.0\n",
            "Division: 1.25\n"
          ]
        }
      ]
    },
    {
      "cell_type": "code",
      "source": [
        "#8. Write a program to demonstrate the use of logical operators.\n",
        "a = True\n",
        "b = False\n",
        "\n",
        "print(\"a AND b:\", a and b)\n",
        "print(\"a OR b:\", a or b)\n",
        "print(\"NOT a:\", not a)\n",
        "print(\"NOT b:\", not b)\n",
        "\n"
      ],
      "metadata": {
        "colab": {
          "base_uri": "https://localhost:8080/"
        },
        "id": "6ixIqPWlGj-t",
        "outputId": "5de31253-ffc5-43c9-e1b4-1c391ae141c0"
      },
      "execution_count": 13,
      "outputs": [
        {
          "output_type": "stream",
          "name": "stdout",
          "text": [
            "a AND b: False\n",
            "a OR b: True\n",
            "NOT a: False\n",
            "NOT b: True\n"
          ]
        }
      ]
    },
    {
      "cell_type": "code",
      "source": [
        "# 9. Write a Python program to convert user input from string to integer, float, and boolean types.\n",
        "num_str = input(\"Enter a number as a string: \")\n",
        "num_int = int(num_str)\n",
        "num_float = float(num_str)\n",
        "num_bool = bool(num_str)\n",
        "print(\"Integer:\", num_int)\n",
        "print(\"Float:\", num_float)\n",
        "print(\"Boolean:\", num_bool)"
      ],
      "metadata": {
        "colab": {
          "base_uri": "https://localhost:8080/"
        },
        "id": "FB6N1PtXGkBe",
        "outputId": "f2c6f292-2fb1-4e56-dd04-3e5e2448dadf"
      },
      "execution_count": 15,
      "outputs": [
        {
          "output_type": "stream",
          "name": "stdout",
          "text": [
            "Enter a number as a string: 112\n",
            "Integer: 112\n",
            "Float: 112.0\n",
            "Boolean: True\n"
          ]
        }
      ]
    },
    {
      "cell_type": "code",
      "source": [
        "#10. Write code to demonstrate type casting with list elements.\n",
        "list_str = [\"1\", \"2\", \"3\", \"4\", \"5\"]\n",
        "list_int = [int(x) for x in list_str]\n",
        "list_float = [float(x) for x in list_str]\n",
        "print(\"List of integers:\", list_int)\n",
        "print(\"List of floats:\", list_float)\n"
      ],
      "metadata": {
        "colab": {
          "base_uri": "https://localhost:8080/"
        },
        "id": "Pdm8wIgKGkEW",
        "outputId": "ba0334d5-cf68-4df4-9abf-eea06e3c5868"
      },
      "execution_count": 18,
      "outputs": [
        {
          "output_type": "stream",
          "name": "stdout",
          "text": [
            "List of integers: [1, 2, 3, 4, 5]\n",
            "List of floats: [1.0, 2.0, 3.0, 4.0, 5.0]\n"
          ]
        }
      ]
    },
    {
      "cell_type": "code",
      "source": [
        "#11. Write a program that checks if a number is positive, negative, or zero.\n",
        "num = float(input(\"Enter a number: \"))\n",
        "if num > 0:\n",
        "    print(\"The number is positive.\")\n",
        "elif num < 0:\n",
        "    print(\"The number is negative.\")\n",
        "else:\n",
        "    print(\"The number is zero.\")"
      ],
      "metadata": {
        "colab": {
          "base_uri": "https://localhost:8080/"
        },
        "id": "rJ2lZflaGkHB",
        "outputId": "be68e7ab-4442-4e77-cef9-481c193d9de1"
      },
      "execution_count": 19,
      "outputs": [
        {
          "output_type": "stream",
          "name": "stdout",
          "text": [
            "Enter a number: -9\n",
            "The number is negative.\n"
          ]
        }
      ]
    },
    {
      "cell_type": "code",
      "source": [
        "#12. Write a for loop to print numbers from 1 to 10.\n",
        "for i in range(1, 11):\n",
        "    print(i)"
      ],
      "metadata": {
        "colab": {
          "base_uri": "https://localhost:8080/"
        },
        "id": "SR1tgFE30mIX",
        "outputId": "28eabfe5-a6be-4cd5-942f-91e290771a55"
      },
      "execution_count": 20,
      "outputs": [
        {
          "output_type": "stream",
          "name": "stdout",
          "text": [
            "1\n",
            "2\n",
            "3\n",
            "4\n",
            "5\n",
            "6\n",
            "7\n",
            "8\n",
            "9\n",
            "10\n"
          ]
        }
      ]
    },
    {
      "cell_type": "code",
      "source": [
        "#13. Write a Python program to find the sum of all even numbers between 1 and 50.\n",
        "sum=0\n",
        "for i in range(1,51):\n",
        "  if(i%2==0):\n",
        "    sum=sum+i\n",
        "\n",
        "print(sum)\n"
      ],
      "metadata": {
        "colab": {
          "base_uri": "https://localhost:8080/"
        },
        "id": "5QkIWiQ8HMMg",
        "outputId": "840c9ee3-4826-4d09-9f5d-e476c92fbca6"
      },
      "execution_count": 25,
      "outputs": [
        {
          "output_type": "stream",
          "name": "stdout",
          "text": [
            "650\n"
          ]
        }
      ]
    },
    {
      "cell_type": "code",
      "source": [
        "#14. Write a program to reverse a string using a while loop.\n",
        "str1=input(\"Enter a string:\")\n",
        "while str1:\n",
        "  print(str1[-1])\n",
        "  str1=str1[:-1]"
      ],
      "metadata": {
        "colab": {
          "base_uri": "https://localhost:8080/"
        },
        "id": "3sMYpfCVHMVr",
        "outputId": "cd6443fc-db1e-4703-c9e4-f42d56d773fd"
      },
      "execution_count": 26,
      "outputs": [
        {
          "output_type": "stream",
          "name": "stdout",
          "text": [
            "Enter a string:abc\n",
            "c\n",
            "b\n",
            "a\n"
          ]
        }
      ]
    },
    {
      "cell_type": "code",
      "source": [
        "#15. Write a Python program to calculate the factorial of a number provided by the user using a while loop.\n",
        "num = int(input(\"Enter a number: \"))\n",
        "fact = 1\n",
        "i = 1\n",
        "while i<=num:\n",
        "  fact=fact*i\n",
        "  i+=1\n",
        "print(f\"Factorial of {num} is {fact}\" )"
      ],
      "metadata": {
        "colab": {
          "base_uri": "https://localhost:8080/"
        },
        "id": "3qns3b6yHMaQ",
        "outputId": "bb9da12d-9a5f-419b-9ee6-89d5af49d628"
      },
      "execution_count": 28,
      "outputs": [
        {
          "output_type": "stream",
          "name": "stdout",
          "text": [
            "Enter a number: 5\n",
            "Factorial of 5 is 120\n"
          ]
        }
      ]
    }
  ]
}